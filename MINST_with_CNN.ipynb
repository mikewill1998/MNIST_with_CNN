{
  "cells": [
    {
      "cell_type": "code",
      "execution_count": 1,
      "metadata": {
        "id": "9JzaTUDP0Lea"
      },
      "outputs": [],
      "source": [
        "import torch\n",
        "import torch.nn as nn\n",
        "import torch.nn.functional as F\n",
        "import torchvision\n",
        "from torchvision.datasets import MNIST\n",
        "from torch.utils.data import DataLoader\n",
        "import torchvision.transforms as tt"
      ]
    },
    {
      "cell_type": "code",
      "execution_count": 2,
      "metadata": {
        "id": "T30HCu5-61qS"
      },
      "outputs": [],
      "source": [
        "class MNISTCNN(nn.Module):\n",
        "  def __init__(self, in_channels=1, num_classes=10):\n",
        "    super(MNISTCNN, self).__init__()\n",
        "    self.conv1 = nn.Conv2d(in_channels=in_channels, out_channels=8, kernel_size=3, stride=1, padding=1) # same convolution\n",
        "    self.conv2 = nn.Conv2d(in_channels=8, out_channels=16, kernel_size=3, stride=1, padding=1)\n",
        "    self.relu = nn.ReLU()\n",
        "    self.pool = nn.MaxPool2d(kernel_size=2, stride=2)\n",
        "    self.fc = nn.Linear(16*7*7, num_classes)\n",
        "\n",
        "  def forward(self, x):\n",
        "    x = self.conv1(x)\n",
        "    x = self.relu(x)\n",
        "    x = self.pool(x)\n",
        "\n",
        "    x = self.conv2(x)\n",
        "    x = self.relu(x)\n",
        "    x = self.pool(x)\n",
        "\n",
        "    x = x.reshape(x.shape[0], -1)\n",
        "    x = self.fc(x)\n",
        "\n",
        "    return x\n",
        "\n"
      ]
    },
    {
      "cell_type": "code",
      "execution_count": 3,
      "metadata": {
        "id": "MHfZNa4hfJZB"
      },
      "outputs": [],
      "source": [
        "# hyperparameter\n",
        "in_channels = 1\n",
        "num_classes = 10\n",
        "learning_rate = 0.001\n",
        "batch_size = 64\n",
        "num_epochs = 5"
      ]
    },
    {
      "cell_type": "code",
      "execution_count": 4,
      "metadata": {
        "id": "mv4QhTr0fu31"
      },
      "outputs": [],
      "source": [
        "train_ds = MNIST(\n",
        "    root='./data', train=True, download=True, transform=tt.ToTensor())\n",
        "val_ds = MNIST(\n",
        "    root='./data', train=False, download=True, transform=tt.ToTensor())\n",
        "\n",
        "train_dl = DataLoader(dataset=train_ds, batch_size=batch_size, shuffle=True)\n",
        "val_dl = DataLoader(dataset=val_ds, batch_size=batch_size, shuffle=False)"
      ]
    },
    {
      "cell_type": "code",
      "execution_count": 5,
      "metadata": {
        "id": "8HwnSySHgt9h"
      },
      "outputs": [],
      "source": [
        "device = torch.device('cuda' if torch.cuda.is_available() else 'cpu')\n",
        "model = MNISTCNN(in_channels=in_channels, num_classes=num_classes).to(device)"
      ]
    },
    {
      "cell_type": "code",
      "execution_count": 6,
      "metadata": {
        "id": "YRQDEbz2if5X"
      },
      "outputs": [],
      "source": [
        "# loss and optimizer\n",
        "criterion = F.cross_entropy\n",
        "optimizer = torch.optim.Adam(model.parameters(), lr=learning_rate)"
      ]
    },
    {
      "cell_type": "code",
      "execution_count": 7,
      "metadata": {
        "colab": {
          "base_uri": "https://localhost:8080/"
        },
        "id": "laMPX26ChaAB",
        "outputId": "eac034e3-ee07-431d-b5f7-2e7465c023c6"
      },
      "outputs": [
        {
          "name": "stdout",
          "output_type": "stream",
          "text": [
            "CPU times: user 35.8 s, sys: 920 ms, total: 36.7 s\n",
            "Wall time: 38.4 s\n"
          ]
        }
      ],
      "source": [
        "%%time\n",
        "for epoch in range(num_epochs):\n",
        "  for batch_idx, (data, labels) in enumerate(train_dl):\n",
        "    # send data to gpu\n",
        "    data = data.to(device=device)\n",
        "    labels = labels.to(device=device)\n",
        "    # forward pass\n",
        "    scores = model(data)\n",
        "    # calculate loss\n",
        "    loss = criterion(scores, labels)\n",
        "    # backward pass\n",
        "    loss.backward()\n",
        "    # update weight\n",
        "    optimizer.step()\n",
        "    # set gradient back to zero\n",
        "    optimizer.zero_grad()"
      ]
    },
    {
      "cell_type": "code",
      "execution_count": 8,
      "metadata": {
        "colab": {
          "base_uri": "https://localhost:8080/"
        },
        "id": "XadfxYObj5vU",
        "outputId": "5b5ec43a-f70f-4250-de9b-6bbcf565cffa"
      },
      "outputs": [
        {
          "name": "stdout",
          "output_type": "stream",
          "text": [
            "validation accuracy 1.0\n"
          ]
        }
      ],
      "source": [
        "# check accuracy\n",
        "def check_accuracy(dl, model):\n",
        "  \n",
        "  model.eval()\n",
        "\n",
        "  with torch.no_grad():\n",
        "    for x, y in dl:\n",
        "      x = x.to(device=device)\n",
        "      y = y.to(device=device)\n",
        "\n",
        "      score = model(x)\n",
        "      _, pred = torch.max(score, dim=1)\n",
        "      acc = torch.tensor(torch.sum(pred == labels).item()/len(pred))\n",
        "\n",
        "    print(f'validation accuracy {acc}')\n",
        "  \n",
        "  model.train()\n",
        "\n",
        "check_accuracy(val_dl, model)"
      ]
    },
    {
      "cell_type": "code",
      "execution_count": 10,
      "metadata": {
        "colab": {
          "base_uri": "https://localhost:8080/"
        },
        "id": "TJVLNaawt8Ws",
        "outputId": "be217856-6207-4314-d8d2-1cf808449790"
      },
      "outputs": [
        {
          "name": "stdout",
          "output_type": "stream",
          "text": [
            "validation accuracy 1.0\n"
          ]
        }
      ],
      "source": [
        "check_accuracy(train_dl, model)"
      ]
    },
    {
      "cell_type": "code",
      "execution_count": 9,
      "metadata": {
        "id": "x7Ji40fQtrqt"
      },
      "outputs": [],
      "source": [
        "torch.save(model.state_dict(), 'MNIST_with_CNN.pth')"
      ]
    }
  ],
  "metadata": {
    "accelerator": "GPU",
    "colab": {
      "collapsed_sections": [],
      "name": "MINST_with_CNN.ipynb",
      "provenance": []
    },
    "gpuClass": "standard",
    "kernelspec": {
      "display_name": "Python 3",
      "name": "python3"
    },
    "language_info": {
      "name": "python"
    }
  },
  "nbformat": 4,
  "nbformat_minor": 0
}
